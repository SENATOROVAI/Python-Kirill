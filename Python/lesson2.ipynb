{
 "cells": [
  {
   "cell_type": "markdown",
   "metadata": {},
   "source": []
  },
  {
   "cell_type": "markdown",
   "metadata": {},
   "source": [
    "Pull request algorithm:\n",
    "1) Fork\n",
    "2) git clone\n",
    "3) edit file\n",
    "4) git commit\n",
    "5) git push\n",
    "6) In own repository -> Pull request and check head"
   ]
  }
 ],
 "metadata": {
  "language_info": {
   "name": "python"
  }
 },
 "nbformat": 4,
 "nbformat_minor": 2
}
