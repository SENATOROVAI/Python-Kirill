{
 "cells": [
  {
   "cell_type": "markdown",
   "metadata": {},
   "source": [
    "# SENATOROVAI"
   ]
  },
  {
   "cell_type": "markdown",
   "metadata": {},
   "source": [
    "### Задание 1 (0.5)\n",
    "\n",
    "Напишите программу, которая создает список:\n",
    "    \n",
    "* из чисел от `-3` до `9` (включая `9`); \n",
    "* каждое второе число из последовательности от `20` до `-1` (не включая `-1`);\n",
    "* каждое десятое число от `-500` до `80` (включая `80`);\n",
    "* нечетные числа `-40` до `5`.\n",
    "\n",
    "**Вход**\n",
    "\n",
    "Нет входных данных.\n",
    "\n",
    "**Выход**\n",
    "\n",
    "Решение задачи.\n",
    "\n",
    "**Пример**\n",
    "```\n",
    "Пример не может быть предоставлен.\n",
    "```"
   ]
  },
  {
   "cell_type": "code",
   "execution_count": null,
   "metadata": {},
   "outputs": [],
   "source": [
    "#* из чисел от `-3` до `9` (включая `9`); \n",
    "l = []\n",
    "for i in range(-3,10):\n",
    "    l.append(i)\n",
    "l\n",
    "     "
   ]
  },
  {
   "cell_type": "code",
   "execution_count": null,
   "metadata": {},
   "outputs": [],
   "source": [
    "#*каждое второе число из последовательности от `20` до `-1` (не включая `-1`);\n",
    "m = []\n",
    "for j in range(20,-1,-2): #start,stop,step\n",
    "    m.append(j)\n",
    "m"
   ]
  },
  {
   "cell_type": "code",
   "execution_count": null,
   "metadata": {},
   "outputs": [],
   "source": [
    "#* каждое десятое число от `-500` до `80` (включая `80`);\n",
    "k = []\n",
    "for y in range(-500,81,10):\n",
    "    k.append(y)\n",
    "k\n"
   ]
  },
  {
   "cell_type": "code",
   "execution_count": null,
   "metadata": {},
   "outputs": [],
   "source": [
    "#*нечетные числа `-40` до `5`.\n",
    "uneven_nums = []\n",
    "\n",
    "for nums in range(-40,5):\n",
    "    if nums % 2 != 0:\n",
    "        uneven_nums.append(nums)\n",
    "uneven_nums"
   ]
  },
  {
   "cell_type": "markdown",
   "metadata": {},
   "source": [
    "### Задание 2 (0.5)\n",
    "\n",
    "Создайте словарь, в котором ключами будут четные числа, которые есть на промежутке `1` от `10`, а значениями словаря будут кубы соотвествующих ключей.\n",
    "\n",
    "**Вход**\n",
    "\n",
    "Нет входных данных.\n",
    "\n",
    "**Выход**\n",
    "\n",
    "Решение задачи.\n",
    "\n",
    "**Пример**\n",
    "```\n",
    "Пример не может быть предоставлен.\n",
    "\n",
    "```"
   ]
  },
  {
   "cell_type": "code",
   "execution_count": 54,
   "metadata": {},
   "outputs": [
    {
     "data": {
      "text/plain": [
       "{1: 1, 2: 8, 3: 27, 4: 64, 5: 125, 6: 216, 7: 343, 8: 512, 9: 729}"
      ]
     },
     "execution_count": 54,
     "metadata": {},
     "output_type": "execute_result"
    }
   ],
   "source": [
    "list_ = []\n",
    "list_2 = []\n",
    "for i in range(1,10):\n",
    "    list_.append(i)\n",
    "    list_2.append(i**3)\n",
    "\n",
    "d = zip(list_,list_2)\n",
    "dict(d)\n",
    "\n",
    "\n",
    " "
   ]
  },
  {
   "cell_type": "markdown",
   "metadata": {},
   "source": [
    "### Задание 3 (0.5)\n",
    "\n",
    "Напишите программу, которая конвертирует строковые значения данного словаря `nums` в числа, там, где это применимо.\n",
    "\n",
    "**Вход**\n",
    "\n",
    "Нет.\n",
    "\n",
    "**Выход**\n",
    "\n",
    "Решение задачи.\n",
    "\n",
    "**Пример**\n",
    "```\n",
    "### Тест 1\n",
    "\n",
    "Выход:\n",
    "\n",
    "{ 'x': 10 , 'y': 20 , 'z': 30, 'p': 40, 'q': 50, 'r': 60}\n",
    "\n",
    "```"
   ]
  },
  {
   "cell_type": "code",
   "execution_count": 54,
   "metadata": {},
   "outputs": [
    {
     "name": "stdout",
     "output_type": "stream",
     "text": [
      "{'x': 10, 'y': 20, 'z': 30, 'p': 40, 'q': 50, 'r': 60}\n"
     ]
    }
   ],
   "source": [
    "nums ={ 'x':'10' , 'y':'20' , 'z':'30', 'p':'40', 'q':'50', 'r':'60'}\n",
    "\n",
    "\n",
    "for i in nums:\n",
    "    nums.update({i : int(nums[i])})\n",
    "print(nums)\n",
    "\n"
   ]
  },
  {
   "cell_type": "markdown",
   "metadata": {},
   "source": [
    "\n",
    "### Задание 4 (1)\n",
    "\n",
    "Вам данные межстрановые данные в виде словаря. Выведите их на экран в следующем формате. ```The list of <<key>>s in the dataset consists of <<value 1>>, <<value 2>>, ..., <<value n>>.```. Каждая пара ключ-значение должны быть отображены с новой строки.\n",
    "\n",
    "\n",
    "**Вход** \n",
    "\n",
    "Нет.\n",
    "\n",
    "**Выход**\n",
    "\n",
    "Решение задачи.\n",
    "\n",
    "**Пример**\n",
    "```\n",
    "### Тест 1\n",
    "\n",
    "Выход:\n",
    "\n",
    "The list of countries in the dataset consists of Russia, Japan, France, Australia.\n",
    "\n",
    "The list of capitals in the dataset consists of Moscow, Tokyo, Paris, Canberra.\n",
    "\n",
    "The list of GDP per capita (US dollars) in the dataset consists of 11000.00, 35200.00, 42600.00, 52905.4.\n",
    "\n",
    "```"
   ]
  },
  {
   "cell_type": "code",
   "execution_count": 247,
   "metadata": {},
   "outputs": [
    {
     "name": "stdout",
     "output_type": "stream",
     "text": [
      "The list of countries in the dataset consists of Russia, Japan, France, Australia.\n",
      "The list of capitals in the dataset consists of Moscow, Tokyo, Paris, Canberra.\n",
      "The list of GDP per capita (US dollars) in the dataset consists of 11000.00, 35200.00, 42600.00, 52905.40.\n"
     ]
    }
   ],
   "source": [
    "'''def myFun(arg1, *argv):\n",
    "\tprint(\"First argument :\", arg1)\n",
    "\tfor arg in argv:\n",
    "\t\tprint(\"Next argument through *argv :\", arg)'''\n",
    "\n",
    "\n",
    "myFun('Hello', 'Welcome', 'to', 'GeeksforGeeks')\n",
    "\n",
    "\n",
    "\n",
    "cross_country_data = {\n",
    "    'Country': ['Russia', 'Japan', 'France', 'Australia'],\n",
    "    'Capital': ['Moscow', 'Tokyo', 'Paris', 'Canberra'],\n",
    "    'Gdp per capita (US dollars)': [11000.00, 35200.00, 42600.00, 52905.4]\n",
    "}\n",
    "\n",
    "\n",
    "\n",
    "strs_1 = \", \".join(cross_country_data['Country'])\n",
    "print(f'The list of countries in the dataset consists of {strs_1}.')\n",
    "\n",
    "strs_2 = \", \".join(cross_country_data['Capital'])\n",
    "print(f'The list of capitals in the dataset consists of {strs_2}.')\n",
    "\n",
    "l = ['{:.2f}'.format(x) for x in cross_country_data['Gdp per capita (US dollars)']] # convert flost to string\n",
    "'''The format string {:.2f} means \"print a fixed-point number (f) \n",
    "with two places after the decimal point (.2)\". str.format will automatically round the \n",
    "number correctly (assuming you entered the numbers with two decimal places in the first place, \n",
    "in which case the floating-point error won't be enough to mess with the rounding)'''\n",
    "\n",
    "strs_3 = strs_2 = \", \".join(l)\n",
    "print(f'The list of GDP per capita (US dollars) in the dataset consists of {strs_3}.')\n",
    "    \n",
    "\n",
    "#UGLY SOlUTION and still wrong but this is closest that i can find"
   ]
  },
  {
   "cell_type": "markdown",
   "metadata": {},
   "source": [
    "# Задание 5 (1.5)\n",
    "\n",
    "Напишите функцию `pretty_print`, которая прнимает на вход неограниченное число аргументов и выводит пару аргумент-значение построчно.\n",
    "\n",
    "**Пример**\n",
    "```\n",
    "### Тест 1\n",
    "\n",
    "pretty_print(title=\"The Matrix\", director=\"Wachowski\", year=1999)\n",
    "\n",
    "\n",
    "Выход: \n",
    "\n",
    "    title: The Matrix\n",
    "    director: Wachowski\n",
    "    year: 1999\n",
    "\n",
    "\n",
    "\n",
    "### Тест 2\n",
    "\n",
    "pretty_print(name=\"Anna\", surname =\"Delvey\")\n",
    "\n",
    "\n",
    "Выход: \n",
    "\n",
    "    name: Anna\n",
    "    surname: Delvey\n",
    "\n",
    "\n",
    "```"
   ]
  },
  {
   "cell_type": "code",
   "execution_count": 11,
   "metadata": {},
   "outputs": [
    {
     "name": "stdout",
     "output_type": "stream",
     "text": [
      "name : Anna\n",
      "surname : Delvey\n",
      "\n",
      "title : The Matrix\n",
      "director : Wachowski\n",
      "year : 1999\n"
     ]
    }
   ],
   "source": [
    "def pretty_print(**arguments):\n",
    "    for k,v in arguments.items():\n",
    "        print(\"%s : %s\" % (k,v))\n",
    "\n",
    "pretty_print(name=\"Anna\", surname =\"Delvey\")\n",
    "print(\"\")\n",
    "pretty_print(title=\"The Matrix\", director=\"Wachowski\", year=1999)"
   ]
  },
  {
   "cell_type": "markdown",
   "metadata": {},
   "source": [
    "# Задание 6 (2 балла)\n",
    "\n",
    "Руководство местной кофейни для программистов решило модернизировать систему заказа кофе.\n",
    "\n",
    "Для этого им требуется реализовать функцию `order`, которая принимает список предпочтений посетителя в порядке «убывания желания».\n",
    "\n",
    "Согласно положению, каждый напиток в кофейне строго определён рецептом:\n",
    "\n",
    "- Эспрессо готовится из: 1 порции кофейных зерен.\n",
    "- Капучино готовится из: 1 порции кофейных зерен и 3 порций молока.\n",
    "- Макиато готовится из: 2 порций кофейных зерен и 1 порции молока.\n",
    "- Кофе по-венски готовится из: 1 порции кофейных зерен и 2 порций взбитых сливок.\n",
    "- Латте Макиато готовится из: 1 порции кофейных зерен, 2 порций молока и 1 порции взбитых сливок.\n",
    "- Кон Панна готовится из: 1 порции кофейных зерен и 1 порции взбитых сливок.\n",
    "- В глобальной переменной `in_stoc`k содержится словарь, описывающий ингредиенты в наличии. Ключи словаря: `coffee`, `cream`, `milk`.\n",
    "\n",
    "Функция должна вернуть:\n",
    "\n",
    "- название напитка, который будет приготовлен;\n",
    "- сообщение «К сожалению, не можем предложить Вам напиток», если ни одно из предпочтений не может быть приготовлено.\n",
    "- Если заказ, может быть совершён, количество доступных ингредиентов должно соответствующим образом уменьшиться.\n",
    "\n",
    "Примечание\n",
    "В решении не должно быть вызовов требуемых функций\n",
    "\n",
    "```\n",
    "### Тест 1\n",
    "Вход:\n",
    "\n",
    "in_stock = {\"coffee\": 1, \"milk\": 2, \"cream\": 3}\n",
    "print(order(\"Эспрессо\", \"Капучино\", \"Макиато\", \"Кофе по-венски\", \"Латте Макиато\", \"Кон Панна\"))\n",
    "print(order(\"Эспрессо\", \"Капучино\", \"Макиато\", \"Кофе по-венски\", \"Латте Макиато\", \"Кон Панна\"))\n",
    "\n",
    "Выход:\n",
    "\n",
    "Эспрессо\n",
    "К сожалению, не можем предложить Вам напиток\n",
    "\n",
    "### Тест 2\n",
    "Вход:\n",
    "\n",
    "in_stock = {\"coffee\": 4, \"milk\": 4, \"cream\": 0}\n",
    "print(order(\"Капучино\", \"Макиато\", \"Эспрессо\"))\n",
    "print(order(\"Капучино\", \"Макиато\", \"Эспрессо\"))\n",
    "print(order(\"Капучино\", \"Макиато\", \"Эспрессо\"))\n",
    "\n",
    "Выход: \n",
    "\n",
    "Капучино\n",
    "Макиато\n",
    "Эспрессо\n",
    "\n",
    "```"
   ]
  },
  {
   "cell_type": "code",
   "execution_count": null,
   "metadata": {},
   "outputs": [],
   "source": []
  },
  {
   "cell_type": "code",
   "execution_count": 7,
   "metadata": {},
   "outputs": [],
   "source": [
    "#ваш код здесь"
   ]
  },
  {
   "cell_type": "markdown",
   "metadata": {},
   "source": [
    "# Задание 7 (2 балла)\n",
    "\n",
    "Напишите функцию `make_matrix`, которая создаёт, заполняет и возвращает матрицу заданного размера.\n",
    "\n",
    "Параметры функции:\n",
    "\n",
    "- size — кортеж (ширина, высота) или одно число (для создания квадратной матрицы);\n",
    "- value — значение элементов списка (по-умолчанию 0).\n",
    "\n",
    "\n",
    "```\n",
    "### Тест 1\n",
    "\n",
    "result = make_matrix(3)\n",
    "\n",
    "Выход: \n",
    "\n",
    "result = [\n",
    "    [0, 0, 0],\n",
    "    [0, 0, 0],\n",
    "    [0, 0, 0]\n",
    "]\n",
    "\n",
    "### Тест 2\n",
    "\n",
    "result = make_matrix((4, 2), 1)\n",
    "\n",
    "Выход: \n",
    "\n",
    "result = [\n",
    "    [1, 1, 1, 1],\n",
    "    [1, 1, 1, 1]\n",
    "]\n",
    "\n",
    "\n",
    "```"
   ]
  },
  {
   "cell_type": "code",
   "execution_count": 8,
   "metadata": {},
   "outputs": [],
   "source": [
    "#ваш код здесь"
   ]
  },
  {
   "cell_type": "markdown",
   "metadata": {},
   "source": [
    "# Задание 8 (2)\n",
    "\n",
    "Программа считывает URL-адрес сайта. Определите, находится ли сайт в международном домене, и если нет, к какой стране он относится.\n",
    "\n",
    "Если домен является международным, выведите на экран слово «Международный». Если домен является национальным, выведите на экран название страны.\n",
    "\n",
    "Варианты доменов, которые могут быть на входе:\n",
    "\n",
    "●             .uk Великобритания\n",
    "\n",
    "●             .de Германия\n",
    "\n",
    "●             .il Израиль\n",
    "\n",
    "●             .in Индия\n",
    "\n",
    "●             .kz Казахстан\n",
    "\n",
    "●             .mm Мьянма\n",
    "\n",
    "●             .om Оман\n",
    "\n",
    "●             .ru Россия\n",
    "\n",
    "●             .uz Узбекистан\n",
    "\n",
    "●             .et Эфиопия\n",
    "\n",
    "●             .com Международный\n",
    "\n",
    "●             .org Международный\n",
    "\n",
    "●             .net Международный\n",
    "\n",
    "\n",
    "**Вход:**\n",
    "\n",
    "Строка с URL сайта.\n",
    "\n",
    "**Выход:**\n",
    "\n",
    "Категория домена в виде строки\n",
    "\n",
    "```\n",
    "\n",
    "### Тест 1 \n",
    "\n",
    "Вход:\n",
    "\n",
    "https://vk.com\n",
    "\n",
    "Выход:\n",
    "\n",
    "Международный\n",
    "\n",
    "```"
   ]
  },
  {
   "cell_type": "code",
   "execution_count": 9,
   "metadata": {},
   "outputs": [],
   "source": [
    "#ваш код здесь"
   ]
  },
  {
   "cell_type": "markdown",
   "metadata": {},
   "source": [
    "# Задание 9 (1)\n",
    "\n",
    "Напишите функцию для определения количества гласных в строке (выдача - словарь). Функция должна поддерживать как кириллицу, так и латиницу.\n",
    "\n",
    "```\n",
    "### Тест 1\n",
    "our_function('Hello! How are you today?')\n",
    "\n",
    "Выход:\n",
    "\n",
    "{'a': 2, 'e': 2, 'i': 0, 'o': 4, 'u': 1}\n",
    "```"
   ]
  },
  {
   "cell_type": "code",
   "execution_count": 55,
   "metadata": {},
   "outputs": [
    {
     "name": "stdout",
     "output_type": "stream",
     "text": [
      "{'a': 2, 'e': 2, 'o': 4, 'u': 1, 'y': 2}\n"
     ]
    }
   ],
   "source": [
    "''' Why in your example it shoew 'i':0? but doesn't show 'q':0 and why it doesn't show y'''\n",
    "\n",
    "def our_function(text):\n",
    "     \n",
    "     new_list = []\n",
    "     s = [*text]\n",
    "     l = [\"q\",\"e\",\"y\",\"u\",\"i\",\"o\",\"a\"]\n",
    "     for i in s:\n",
    "          if i in l:\n",
    "               i = i.lower()\n",
    "               new_list.append(i)\n",
    "     new_list = sorted(new_list)\n",
    "     \n",
    "     letter_count = {}\n",
    "     for letter in new_list:\n",
    "          if letter in letter_count:\n",
    "               letter_count[letter]+= 1\n",
    "          else:\n",
    "               letter_count[letter] = 1\n",
    "     print(letter_count)\n",
    "          \n",
    "\n",
    "our_function('Hello! How are you today?')"
   ]
  },
  {
   "cell_type": "markdown",
   "metadata": {},
   "source": [
    "# Задание 10 (1)\n",
    "\n",
    "Два слова являются анаграммами, если состоят из одинаковых букв. Напишите функцию, которая принимает на вход два словами и считает, являеются эти слова анаграммами.\n",
    "\n",
    "```\n",
    "###  Тест 1\n",
    "print(is_anagrams(\"binary\", \"brainy\")) \n",
    "\n",
    "Выход:\n",
    "\n",
    "True\n",
    "\n",
    "\n",
    "```"
   ]
  },
  {
   "cell_type": "code",
   "execution_count": 3,
   "metadata": {},
   "outputs": [
    {
     "name": "stdout",
     "output_type": "stream",
     "text": [
      "True\n"
     ]
    }
   ],
   "source": [
    "def is_anagram(first,second):\n",
    "    if sorted([*first]) == sorted([*second]):\n",
    "        return True\n",
    "    else:\n",
    "        return False\n",
    "    \n",
    "print(is_anagram(\"binary\", \"brainy\")) \n"
   ]
  }
 ],
 "metadata": {
  "kernelspec": {
   "display_name": "Python 3",
   "language": "python",
   "name": "python3"
  },
  "language_info": {
   "codemirror_mode": {
    "name": "ipython",
    "version": 3
   },
   "file_extension": ".py",
   "mimetype": "text/x-python",
   "name": "python",
   "nbconvert_exporter": "python",
   "pygments_lexer": "ipython3",
   "version": "3.10.6"
  }
 },
 "nbformat": 4,
 "nbformat_minor": 4
}
