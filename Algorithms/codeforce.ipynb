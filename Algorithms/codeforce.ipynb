{
 "cells": [
  {
   "cell_type": "code",
   "execution_count": null,
   "metadata": {},
   "outputs": [],
   "source": [
    "# Way Too Long Words\n",
    "# https://codeforces.com/problemset/problem/71/A FiRST\n",
    "\n",
    "n = int(input(\"\"))\n",
    "words = []\n",
    "for i in range(n): # loop through each number of number of words and append input to list\n",
    "    words.append(input(\"\")) # append to list\n",
    "\n",
    "#NOW we have list of words #for exaple our list look like this [\"word\", \"information\", \"fdgjnsdfgjshfgklsdjlkgjdklfg\"]\n",
    "    #let's check if this words lenghth > 10 or < 10\n",
    "\n",
    " \n",
    "def shortcuts(n, words): #2 variables number of words and what words\n",
    "    outputList = [] #in this list we are going to append all results\n",
    "    for i in range(n): # how many words is going to appear \n",
    "        if len(words[i]) > 10: #if length of word[number of word in list bigger than 10\n",
    "            outputList.append(words[i][0] + str(len(words[i])-2) + words[i][-1]) # add to list word number first\n",
    "        else:\n",
    "            outputList.append(words[i]) #if word's lenght < 10 character \n",
    "    for i in outputList:\n",
    "        print(i)\n",
    "shortcuts(n, words)"
   ]
  },
  {
   "cell_type": "code",
   "execution_count": 3,
   "metadata": {},
   "outputs": [
    {
     "name": "stdout",
     "output_type": "stream",
     "text": [
      "li\n",
      "ki\n"
     ]
    }
   ],
   "source": [
    "# Way Too Long Words\n",
    "# https://codeforces.com/problemset/problem/71/A SECOND\n",
    "\n",
    "t = int(input()) # setting number og words that we going to check if it's long\n",
    "for i in range(t): \n",
    "  s = input() # each iter we asking user to type word\n",
    "  if (len(s)>10): # if word length longer than 10 \n",
    "    n = str(len(s)-2) #pull total index number except first and last which means (total number of leeters - 2) as string\n",
    "    print(s[0]+n+s[-1]) # s[first character]+total number of characters except firsxt and last + s[last character]\n",
    "  else:\n",
    "    print(s)"
   ]
  },
  {
   "cell_type": "code",
   "execution_count": 24,
   "metadata": {},
   "outputs": [
    {
     "name": "stdout",
     "output_type": "stream",
     "text": [
      "1\n",
      "1\n"
     ]
    }
   ],
   "source": [
    "# Way Too Long Words\n",
    "# https://codeforces.com/problemset/problem/71/A THIRD\n",
    "#basically the same as before \n",
    "\n",
    "n = int(input())\n",
    "for i in range(n):\n",
    "    s = input()\n",
    "    if len(s) <= 10:\n",
    "        print(s)\n",
    "    else:\n",
    "        print(f'{s[0]}{len(s) - 2}{s[-1]}')\n",
    "\n"
   ]
  },
  {
   "cell_type": "code",
   "execution_count": 97,
   "metadata": {},
   "outputs": [
    {
     "name": "stdout",
     "output_type": "stream",
     "text": [
      "1\n"
     ]
    }
   ],
   "source": [
    "#Team #my attempt\n",
    "# https://codeforces.com/problemset/problem/231/A\n",
    "\n",
    "number_of_problems = int(input())\n",
    "\n",
    "count = 0\n",
    "for _ in range(number_of_problems):\n",
    "    a,b,c = map(int, input().split())\n",
    "    if a+b+c > 1:\n",
    "        count+= 1\n",
    "print(count)"
   ]
  },
  {
   "cell_type": "code",
   "execution_count": 69,
   "metadata": {},
   "outputs": [
    {
     "name": "stdout",
     "output_type": "stream",
     "text": [
      "0\n"
     ]
    }
   ],
   "source": [
    "#Team FIRST\n",
    "# https://codeforces.com/problemset/problem/231/A    \n",
    "\n",
    "n = int(input()) \n",
    "c = 0\n",
    "for i in range(n): # number of problems\n",
    "    k = input() # k is \"number\" but string\n",
    "    if k.count(\"1\") >= 2: #count amount of \"1\". It must be be 2 or more to be True.\n",
    "        c += 1 # if True -> if k.count() > 2 -> +1\n",
    "print(c) #total amout of True"
   ]
  },
  {
   "cell_type": "code",
   "execution_count": 92,
   "metadata": {},
   "outputs": [
    {
     "name": "stdout",
     "output_type": "stream",
     "text": [
      "1\n"
     ]
    }
   ],
   "source": [
    "#Team SECOND \n",
    "# https://codeforces.com/problemset/problem/231/A    \n",
    "n=int(input())\n",
    "count=0\n",
    "for _ in range(n):\n",
    "    petya,vasya,tonya = map(int,input().split()) # map() function is going to make number from each element of the list\n",
    "    if petya+vasya+tonya >= 2: # if each  total of integers > 1 \n",
    "        count=count+1 # count +1\n",
    "\n",
    "print(count) #print total "
   ]
  }
 ],
 "metadata": {
  "kernelspec": {
   "display_name": "Python 3",
   "language": "python",
   "name": "python3"
  },
  "language_info": {
   "codemirror_mode": {
    "name": "ipython",
    "version": 3
   },
   "file_extension": ".py",
   "mimetype": "text/x-python",
   "name": "python",
   "nbconvert_exporter": "python",
   "pygments_lexer": "ipython3",
   "version": "3.12.1"
  }
 },
 "nbformat": 4,
 "nbformat_minor": 2
}
