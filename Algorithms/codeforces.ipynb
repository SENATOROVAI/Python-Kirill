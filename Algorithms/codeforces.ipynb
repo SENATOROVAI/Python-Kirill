{
 "cells": [
  {
   "cell_type": "code",
   "execution_count": null,
   "metadata": {},
   "outputs": [],
   "source": [
    "#https://codeforces.com/problemset/problem/50/A\n",
    "\n",
    "print(eval(input().replace(' ','*'))//2)"
   ]
  },
  {
   "cell_type": "code",
   "execution_count": 19,
   "metadata": {},
   "outputs": [],
   "source": [
    "#https://codeforces.com/problemset/problem/50/A\n",
    "\n",
    "x,y= map(int, input().split())\n",
    "res = int(x*y / 2)\n",
    "print(res)\n",
    "\n",
    "# x = map(str, [\"1\",\"2\"])\n",
    "\n",
    "# print(x.__next__())\n",
    "# print(x.__next__())\n"
   ]
  },
  {
   "cell_type": "code",
   "execution_count": 1,
   "metadata": {},
   "outputs": [],
   "source": [
    "#https://codeforces.com/problemset/problem/50/A\n",
    "\n",
    "def max_area(m,n):\n",
    "    area = m*n\n",
    "    dominoes = area//2\n",
    "    return dominoes\n",
    "m, n= map(int, input().split())\n",
    "print(max_area(m,n))"
   ]
  }
 ],
 "metadata": {
  "kernelspec": {
   "display_name": "Python 3",
   "language": "python",
   "name": "python3"
  },
  "language_info": {
   "codemirror_mode": {
    "name": "ipython",
    "version": 3
   },
   "file_extension": ".py",
   "mimetype": "text/x-python",
   "name": "python",
   "nbconvert_exporter": "python",
   "pygments_lexer": "ipython3",
   "version": "3.12.1"
  }
 },
 "nbformat": 4,
 "nbformat_minor": 2
}
