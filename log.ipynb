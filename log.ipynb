{
 "cells": [
  {
   "cell_type": "code",
   "execution_count": null,
   "metadata": {},
   "outputs": [],
   "source": [
    "#12/30/2023 -> lesson1.ipynb\n",
    "\n",
    "\n",
    "#Most of the lesson we worked with binaries \n",
    "#formula tilda(~) = -1-var\n",
    "#disjunction \"+\" conjunction \"*\"\n"
   ]
  }
 ],
 "metadata": {
  "language_info": {
   "name": "python"
  }
 },
 "nbformat": 4,
 "nbformat_minor": 2
}
