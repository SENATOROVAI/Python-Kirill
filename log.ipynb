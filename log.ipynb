{
 "cells": [
  {
   "cell_type": "code",
   "execution_count": null,
   "metadata": {},
   "outputs": [],
   "source": [
    "'''12/30/2023 -> lesson1.ipynb\n",
    "\n",
    "\n",
    "#Most of the lesson we worked with binaries \n",
    "#formula tilda(~) = -1-var\n",
    "#disjunction \"+\" conjunction \"*\" '''\n"
   ]
  },
  {
   "cell_type": "code",
   "execution_count": null,
   "metadata": {},
   "outputs": [],
   "source": [
    "''' 01/06/2023\n",
    "\n",
    "Repeat GitHub basics. I want to be more familliar with GitHub interface, but preferbaly use terminal.\n",
    "\n",
    "Solved issue with python versions. During the lessons mypy and black didn't work.\n",
    " To solve this  reinstall last version of Python. Deleted other Python versions that was installed prviously for legacy projects.\n",
    " Deleted VSCode cache to be able to use mypy and black in VScode:\n",
    "1.WIN+r\n",
    "2.Type %appdata%\n",
    "3.Enter\n",
    "4.Delete folder “Code”'''\n"
   ]
  }
 ],
 "metadata": {
  "language_info": {
   "name": "python"
  }
 },
 "nbformat": 4,
 "nbformat_minor": 2
}
